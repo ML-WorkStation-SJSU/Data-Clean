{
 "cells": [
  {
   "cell_type": "markdown",
   "metadata": {},
   "source": [
    "# Why Do We Care About Anomalies\n",
    "---\n",
    "\n",
    "\n",
    "## Direct Function\n",
    "\n",
    "- Detecting anomalies in the heartbeat data can help in predicting heart diseases. \n",
    "- Anomalies in traffic patterns can help in predicting accidents. \n",
    "- It can also be used to identify bottlenecks in network infrastructure and traffic between servers\n",
    "\n",
    "## Indirect Function\n",
    "\n",
    "- when preparing datasets for machine learning models, it is really important to detect all the outliers and either get rid of them or analyze them to know why you had them there in the first place\n",
    "\n",
    "---"
   ]
  },
  {
   "cell_type": "markdown",
   "metadata": {},
   "source": [
    "# Method 1 — Standard Deviation:\n",
    "\n",
    "![Standard Deviation](https://miro.medium.com/max/3144/1*rV7rq7F_uB5gwjzzGJ9VqA.png)"
   ]
  },
  {
   "cell_type": "code",
   "execution_count": 5,
   "metadata": {},
   "outputs": [
    {
     "data": {
      "text/plain": [
       "[80.61714224744061,\n",
       " 99.17205408075927,\n",
       " 86.4215751234073,\n",
       " -41.0752876085261,\n",
       " -43.06714900382097,\n",
       " -40.32063970418597,\n",
       " 88.65326863591119,\n",
       " -41.28282712210201,\n",
       " 94.80497807409178,\n",
       " 82.70094680175814,\n",
       " 84.76686393504752,\n",
       " -45.06068469953237,\n",
       " 82.64059456281011,\n",
       " 80.25509136474466,\n",
       " -43.81232693648161,\n",
       " -45.21230191553079,\n",
       " 88.08604551497943,\n",
       " 82.369591815651,\n",
       " 85.9708104656157,\n",
       " 82.97968050439259,\n",
       " -45.8971681339703,\n",
       " -41.11266480828613,\n",
       " 100.53698089094755,\n",
       " -44.38264211247683,\n",
       " 82.23783662033449,\n",
       " 92.26554014166295,\n",
       " 87.96231313004853,\n",
       " 91.21746641411097,\n",
       " -53.128801985095905,\n",
       " -45.641575926212354,\n",
       " 91.21225295344836,\n",
       " -43.46923274683489,\n",
       " 82.13498657145581,\n",
       " 82.90737927394908,\n",
       " -46.216851244091984,\n",
       " -41.9565310384887,\n",
       " -45.6065519410858,\n",
       " 80.5243698860871,\n",
       " -43.30420249353775,\n",
       " -42.25263324372853,\n",
       " 81.59215546151304,\n",
       " 103.36235355910189,\n",
       " 96.68762041821407,\n",
       " -40.586879558462776,\n",
       " -48.71851620008829,\n",
       " -45.18412137279293,\n",
       " 81.54158108441533,\n",
       " 84.5587224070789,\n",
       " -40.7688517191754,\n",
       " -44.08128900692253,\n",
       " -42.043297873881315,\n",
       " 87.71430311862296,\n",
       " 88.9391203157937,\n",
       " -40.52113314693459,\n",
       " -49.02805812510347,\n",
       " 86.72050502651298,\n",
       " -44.452278374625166,\n",
       " -58.55028132123577,\n",
       " 87.83885146048503,\n",
       " -41.810065776968784,\n",
       " -42.38237155225082,\n",
       " 91.19937116220078,\n",
       " 93.19531683513023,\n",
       " -41.0172829464469,\n",
       " 82.94710559091223,\n",
       " 86.8410257826826,\n",
       " -47.358945718270846,\n",
       " -47.27471768342224,\n",
       " -44.05283959700523,\n",
       " 81.39224116690686,\n",
       " -64.66329594864382,\n",
       " -41.91924535511986,\n",
       " 86.98293402121955,\n",
       " -42.78324538163221,\n",
       " -43.44070544512959,\n",
       " 83.14254869231635,\n",
       " 80.29722046012112,\n",
       " 80.97664481662183,\n",
       " -49.135306899574985,\n",
       " 90.95359817188209,\n",
       " 85.7504914101956,\n",
       " 90.63353726783707,\n",
       " -52.25624570621119,\n",
       " -48.427273980448774,\n",
       " 92.45148786479089,\n",
       " -40.60136533430394,\n",
       " 90.66197938200516,\n",
       " -40.652000332079666,\n",
       " 85.47272253055641,\n",
       " -40.59878231029168,\n",
       " -53.957837173283735,\n",
       " -40.80036485428288,\n",
       " 82.4740392321337,\n",
       " 82.69560613707037,\n",
       " -46.18148126636443,\n",
       " 86.9908487614501,\n",
       " 80.1457297060347,\n",
       " 82.24721888631221,\n",
       " -45.832275955612076,\n",
       " 84.176266941649,\n",
       " 84.4193809675114,\n",
       " -48.12080165824392,\n",
       " -47.66016305888587,\n",
       " 83.03299706691035,\n",
       " -46.34572895708007,\n",
       " -43.94127801481702,\n",
       " -44.888893484963376,\n",
       " 82.73490952329395,\n",
       " 83.57335544403156,\n",
       " 80.7727413101268,\n",
       " -52.50413207267792,\n",
       " -49.69745467233162,\n",
       " 80.22051938742219,\n",
       " -61.76977168084022,\n",
       " -41.57467213920625,\n",
       " -58.86284640187061,\n",
       " -51.197383857166216,\n",
       " -56.11928395638613,\n",
       " -48.85042290718998,\n",
       " -52.64159591899764,\n",
       " -40.858015925037485,\n",
       " 90.00512514161373,\n",
       " -44.150803760611865,\n",
       " 81.0757508416524,\n",
       " 88.42082610751223,\n",
       " -48.97515466922074,\n",
       " -41.87410601743178,\n",
       " 81.91272478059072,\n",
       " 84.69303765209298,\n",
       " -40.93984641793596,\n",
       " -52.615615036883995,\n",
       " -49.39834453038375,\n",
       " 84.48319182306491,\n",
       " 80.41393381216217,\n",
       " 89.04319371214211,\n",
       " 83.11545348720793,\n",
       " 86.3948526034166,\n",
       " -54.34260433053814,\n",
       " -53.884089553553295,\n",
       " -60.83360878272147,\n",
       " -45.502951473453436,\n",
       " -42.84117089742673]"
      ]
     },
     "execution_count": 5,
     "metadata": {},
     "output_type": "execute_result"
    }
   ],
   "source": [
    "import numpy as np\n",
    "import matplotlib.pyplot as plt\n",
    "np.random.seed(1)\n",
    "anomalies = []\n",
    "\n",
    "# multiply and add by random numbers to get some real values\n",
    "data = np.random.randn(50000)  * 20 + 20\n",
    "\n",
    "# Function to Detection Outlier on one-dimentional datasets.\n",
    "def find_anomalies(random_data):\n",
    "    # Set upper and lower limit to 3 standard deviation\n",
    "    random_data_std = np.std(random_data)\n",
    "    random_data_mean = np.mean(random_data)\n",
    "    anomaly_cut_off = random_data_std * 3\n",
    "    \n",
    "    lower_limit  = random_data_mean - anomaly_cut_off \n",
    "    upper_limit = random_data_mean + anomaly_cut_off\n",
    "    \n",
    "    # Generate outliers\n",
    "    for outlier in random_data:\n",
    "        if outlier > upper_limit or outlier < lower_limit:\n",
    "            anomalies.append(outlier)\n",
    "    return anomalies\n",
    "\n",
    "find_anomalies(data)"
   ]
  },
  {
   "cell_type": "markdown",
   "metadata": {},
   "source": [
    "# Method 2 — Boxplots \n",
    "\n",
    "![Boxplots](https://miro.medium.com/max/1280/1*AU07MCIdvUnjskY1XH9auw.png)\n",
    "\n",
    "Interquartile Range (IQR) is important because it is used to define the outliers. It is the difference between the third quartile and the first quartile (IQR = Q3 -Q1). Outliers in this case are defined as the observations that are below (Q1 − 1.5x IQR) or boxplot lower whisker or above (Q3 + 1.5x IQR) or boxplot upper whisker.\n",
    "\n",
    "![IQR](https://miro.medium.com/max/2508/1*J5Xm0X-phCJJ-DKZMZ_88w.png)"
   ]
  },
  {
   "cell_type": "code",
   "execution_count": 8,
   "metadata": {},
   "outputs": [
    {
     "data": {
      "text/plain": [
       "<matplotlib.axes._subplots.AxesSubplot at 0x1a17409240>"
      ]
     },
     "execution_count": 8,
     "metadata": {},
     "output_type": "execute_result"
    },
    {
     "data": {
      "image/png": "[encoded data removed]",
      "text/plain": [
       "<Figure size 432x288 with 1 Axes>"
      ]
     },
     "metadata": {
      "needs_background": "light"
     },
     "output_type": "display_data"
    }
   ],
   "source": [
    "import numpy as np\n",
    "import seaborn as sns\n",
    "import matplotlib.pyplot as plt\n",
    "\n",
    "sns.boxplot(data = np.random.randn(500)*20 + 20)"
   ]
  },
  {
   "cell_type": "markdown",
   "metadata": {},
   "source": [
    "# Method 3— DBScan Clustering:\n",
    "\n",
    "DBScan is a clustering algorithm that’s used cluster data into groups. It is also used as a density-based anomaly detection method with either single or multi-dimensional data. Other clustering algorithms such as k-means and hierarchal clustering can also be used to detect outliers\n",
    "\n",
    "---\n",
    "\n",
    "## concepts\n",
    "\n",
    "- **Core Points**: In order to understand the concept of the core points, we need to visit some of the hyperparameters used to define DBScan job. First hyperparameter (HP)is min_samples. This is simply the minimum number of core points needed in order to form a cluster. second important HP is eps. eps is the maximum distance between two samples for them to be considered as in the same cluster\n",
    "\n",
    "- **Border Points** are in the same cluster as core points but much further away from the centre of the cluster.\n",
    "\n",
    "![](https://miro.medium.com/max/750/1*d35zOOP2PQ13ZROxr9ddjA.png)\n",
    "\n",
    "- Everything else is called **Noise Points**, those are data points that do not belong to any cluster. They can be anomalous or non-anomalous and they need further investigation\n",
    "\n",
    "**<font color=\"#dd0000\">The output of the following code is 94. This is the total number of noisy points. SKLearn labels the noisy points as (-1). The downside with this method is that the higher the dimension, the less accurate it becomes. You also need to make a few assumptions like estimating the right value for eps which can be challenging.</font>**"
   ]
  },
  {
   "cell_type": "code",
   "execution_count": 12,
   "metadata": {},
   "outputs": [
    {
     "data": {
      "text/plain": [
       "94"
      ]
     },
     "execution_count": 12,
     "metadata": {},
     "output_type": "execute_result"
    }
   ],
   "source": [
    "import numpy as np\n",
    "from sklearn.cluster import DBSCAN\n",
    "np.random.seed(1)\n",
    "random_data = np.random.randn(50000,2)  * 20 + 20\n",
    "\n",
    "outlier_detection = DBSCAN(min_samples = 2, eps = 3)\n",
    "clusters = outlier_detection.fit_predict(random_data)\n",
    "list(clusters).count(-1)"
   ]
  },
  {
   "cell_type": "markdown",
   "metadata": {},
   "source": [
    "# Method 4— Isolation Forest:\n",
    "\n",
    "**<font color=\"#dd0000\">This algorithm works great with very high dimensional datasets and it proved to be a very effective way of detecting anomalies</font>**\n",
    "\n",
    "It explicitly isolates anomalies instead of profiling and constructing normal points and regions by assigning a score to each data point. It takes advantage of the fact that anomalies are the minority data points and that they have attribute-values that are very different from those of normal instances\n",
    "\n",
    "Paper Link: [https://cs.nju.edu.cn/zhouzh/zhouzh.files/publication/icdm08b.pdf](https://cs.nju.edu.cn/zhouzh/zhouzh.files/publication/icdm08b.pdf)\n",
    "\n",
    "**<font color=\"#dd0000\">This code will output the predictions for each data point in an array. If the result is -1, it means that this specific data point is an outlier. If the result is 1, then it means that the data point is not an outlier</font>**"
   ]
  },
  {
   "cell_type": "code",
   "execution_count": 15,
   "metadata": {},
   "outputs": [
    {
     "data": {
      "text/plain": [
       "array([-1,  1, -1, -1,  1, -1,  1, -1,  1,  1,  1,  1,  1,  1,  1,  1,  1,\n",
       "        1,  1, -1,  1, -1,  1, -1,  1,  1,  1,  1,  1,  1,  1,  1,  1, -1,\n",
       "       -1, -1,  1, -1,  1,  1,  1,  1,  1,  1,  1,  1,  1,  1,  1,  1,  1,\n",
       "        1,  1,  1,  1,  1,  1,  1, -1,  1,  1, -1, -1, -1,  1,  1,  1,  1,\n",
       "        1,  1,  1,  1,  1,  1,  1, -1, -1,  1,  1,  1,  1,  1,  1,  1, -1,\n",
       "        1, -1,  1,  1,  1,  1,  1,  1,  1,  1,  1, -1, -1,  1,  1,  1, -1,\n",
       "       -1, -1, -1,  1,  1,  1,  1,  1, -1, -1, -1,  1,  1,  1, -1,  1,  1,\n",
       "       -1,  1,  1,  1,  1, -1,  1, -1,  1, -1,  1, -1,  1,  1,  1,  1, -1,\n",
       "        1,  1, -1,  1,  1,  1,  1,  1,  1,  1,  1,  1,  1,  1, -1,  1,  1,\n",
       "        1,  1,  1,  1, -1,  1,  1,  1,  1,  1,  1,  1,  1,  1, -1, -1, -1,\n",
       "        1,  1,  1,  1,  1,  1,  1,  1,  1,  1,  1, -1,  1, -1,  1,  1,  1,\n",
       "       -1, -1, -1,  1, -1,  1,  1,  1, -1,  1,  1, -1, -1,  1,  1,  1, -1,\n",
       "        1, -1, -1, -1,  1, -1,  1,  1, -1,  1,  1,  1,  1,  1,  1, -1, -1,\n",
       "        1,  1,  1,  1,  1,  1,  1,  1,  1,  1,  1,  1, -1,  1,  1, -1,  1,\n",
       "       -1,  1,  1,  1,  1, -1,  1,  1,  1, -1, -1,  1, -1,  1,  1,  1,  1,\n",
       "       -1,  1,  1,  1,  1, -1,  1,  1,  1,  1, -1,  1,  1,  1, -1,  1, -1,\n",
       "       -1,  1, -1, -1, -1,  1,  1,  1,  1,  1, -1,  1,  1,  1, -1,  1,  1,\n",
       "        1,  1,  1,  1, -1, -1,  1,  1,  1,  1,  1,  1,  1, -1,  1, -1,  1,\n",
       "        1, -1, -1,  1, -1,  1,  1,  1, -1,  1,  1,  1,  1,  1,  1,  1,  1,\n",
       "       -1,  1, -1, -1,  1,  1,  1, -1,  1,  1,  1,  1, -1,  1,  1,  1,  1,\n",
       "        1, -1, -1,  1,  1,  1,  1,  1,  1,  1,  1,  1,  1, -1, -1, -1,  1,\n",
       "        1,  1,  1, -1,  1,  1,  1,  1,  1, -1,  1,  1, -1,  1, -1,  1,  1,\n",
       "        1,  1,  1,  1,  1,  1, -1, -1, -1,  1, -1,  1,  1,  1,  1, -1,  1,\n",
       "        1, -1,  1,  1, -1,  1, -1,  1,  1,  1,  1,  1, -1,  1,  1,  1, -1,\n",
       "        1,  1,  1,  1,  1,  1,  1,  1,  1,  1,  1,  1, -1, -1, -1,  1,  1,\n",
       "        1,  1, -1,  1,  1,  1,  1,  1,  1,  1, -1, -1,  1,  1,  1,  1,  1,\n",
       "        1,  1,  1,  1, -1, -1, -1, -1,  1,  1,  1, -1, -1,  1,  1,  1,  1,\n",
       "        1,  1,  1,  1,  1,  1, -1,  1, -1,  1,  1,  1, -1, -1,  1, -1,  1,\n",
       "        1,  1,  1,  1,  1,  1,  1,  1,  1,  1, -1,  1, -1,  1,  1,  1,  1,\n",
       "        1,  1,  1,  1,  1, -1,  1])"
      ]
     },
     "execution_count": 15,
     "metadata": {},
     "output_type": "execute_result"
    }
   ],
   "source": [
    "from sklearn.ensemble import IsolationForest\n",
    "import numpy as np\n",
    "np.random.seed(1)\n",
    "random_data = np.random.randn(500,2)  * 20 + 20\n",
    "\n",
    "clf = IsolationForest( max_samples=100, random_state = 1, contamination= 'auto')\n",
    "preds = clf.fit_predict(random_data)\n",
    "preds"
   ]
  },
  {
   "cell_type": "markdown",
   "metadata": {},
   "source": [
    "# Method 5— Robust Random Cut Forest:\n",
    "\n",
    "Random Cut Forest (RCF) algorithm is Amazon’s unsupervised algorithm for detecting anomalies. It works by associating an anomaly score as well. Low score values indicate that the data point is considered “normal.” High values indicate the presence of an anomaly in the data. The definitions of “low” and “high” depend on the application but common practice suggests that scores beyond three standard deviations from the mean score are considered anomalous.\n",
    "\n",
    "[Paper Link](http://proceedings.mlr.press/v48/guha16.pdf)\n",
    "\n",
    "---\n",
    "\n",
    "## <font color=\"#dd0000\">Most Important</font>\n",
    "- **The great thing about this algorithm is that it works with very <font color=\"#dd0000\">high dimensional</font> data. It can also work on <font color=\"#dd0000\">real-time streaming</font> data (built in AWS Kinesis Analytics) as well as offline data**.\n",
    "- **The paper shows some performance benchmarks when compared with Isolation Forest. Here are the results from the paper which shows that RCF is much <font color=\"#dd0000\">more accurate and faster</font> than Isolation Forests**.\n",
    "\n",
    "\n",
    "## Code Implementation\n",
    "\n",
    "[https://github.com/awslabs/amazon-sagemaker-examples/tree/master/introduction_to_amazon_algorithms/random_cut_forest](https://github.com/awslabs/amazon-sagemaker-examples/tree/master/introduction_to_amazon_algorithms/random_cut_forest)"
   ]
  }
 ],
 "metadata": {
  "kernelspec": {
   "display_name": "Python 3",
   "language": "python",
   "name": "python3"
  },
  "language_info": {
   "codemirror_mode": {
    "name": "ipython",
    "version": 3
   },
   "file_extension": ".py",
   "mimetype": "text/x-python",
   "name": "python",
   "nbconvert_exporter": "python",
   "pygments_lexer": "ipython3",
   "version": "3.7.3"
  }
 },
 "nbformat": 4,
 "nbformat_minor": 2
}
