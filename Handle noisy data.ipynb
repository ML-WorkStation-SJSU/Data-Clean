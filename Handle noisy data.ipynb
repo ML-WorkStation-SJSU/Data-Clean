{
 "cells": [
  {
   "cell_type": "markdown",
   "metadata": {},
   "source": [
    "## Noisy data\n",
    "\n",
    "What is noisy data?\n",
    "* Noisy data is meaningless data. \n",
    "* Cannot be understood and interpreted correctly by machines\n",
    "* Can be caused by faulty data collection instruments, human or computer errors occurring at data entry, data transmission errors, etc\n",
    "\n",
    "Techniques to handle noisy data?\n",
    "\n"
   ]
  },
  {
   "cell_type": "markdown",
   "metadata": {},
   "source": [
    "### Binning\n",
    "    - A data pre-processing technique used to reduce the effects of minor observation errors. The original data values which fall into a given small interval, a bin, are replaced by a value representative of that interval, often the central value. It is a form of quantization.\n",
    "    - Binning methods smooth a **sorted** data value by consulting the values around it.\n",
    "    - Because binning methods consult the values around it, they perform local smoothing\n",
    "    - In general, the larger the width of bins, the greater the effect of the smoothing\n",
    "    - Binning is also used as a discretization technique\n",
    "    \n",
    "    * Ways of binning\n",
    "        * mean\n",
    "        * boundary (replaced by the closer boudary)\n",
    "        * median"
   ]
  },
  {
   "cell_type": "code",
   "execution_count": 55,
   "metadata": {},
   "outputs": [
    {
     "name": "stdout",
     "output_type": "stream",
     "text": [
      "Binning using mean\n",
      "\n",
      " [[  4.2   4.2   4.2   4.2   4.2]\n",
      " [ 14.8  14.8  14.8  14.8  14.8]\n",
      " [ 25.4  25.4  25.4  25.4  25.4]\n",
      " [ 34.8  34.8  34.8  34.8  34.8]\n",
      " [ 39.6  39.6  39.6  39.6  39.6]\n",
      " [ 47.8  47.8  47.8  47.8  47.8]\n",
      " [ 59.6  59.6  59.6  59.6  59.6]\n",
      " [ 68.6  68.6  68.6  68.6  68.6]\n",
      " [ 76.4  76.4  76.4  76.4  76.4]\n",
      " [ 86.   86.   86.   86.   86. ]\n",
      " [ 97.6  97.6  97.6  97.6  97.6]\n",
      " [113.4 113.4 113.4 113.4 113.4]\n",
      " [128.4 128.4 128.4 128.4 128.4]\n",
      " [141.6 141.6 141.6 141.6 141.6]\n",
      " [146.8 146.8 146.8 146.8 146.8]\n",
      " [155.8 155.8 155.8 155.8 155.8]\n",
      " [163.6 163.6 163.6 163.6 163.6]\n",
      " [169.6 169.6 169.6 169.6 169.6]\n",
      " [182.2 182.2 182.2 182.2 182.2]\n",
      " [190.6 190.6 190.6 190.6 190.6]]\n",
      "\n",
      "Binning using boundary\n",
      "\n",
      " [[  1.   1.   1.   8.   8.]\n",
      " [  9.   9.   9.   9.  22.]\n",
      " [ 23.  23.  23.  23.  28.]\n",
      " [ 33.  33.  33.  33.  37.]\n",
      " [ 39.  39.  39.  39.  42.]\n",
      " [ 44.  44.  44.  51.  51.]\n",
      " [ 55.  55.  55.  64.  64.]\n",
      " [ 66.  66.  66.  66.  71.]\n",
      " [ 72.  72.  72.  79.  79.]\n",
      " [ 81.  81.  81.  81.  91.]\n",
      " [ 92.  92.  92.  92. 104.]\n",
      " [107. 107. 107. 107. 122.]\n",
      " [123. 123. 123. 123. 135.]\n",
      " [139. 139. 139. 144. 144.]\n",
      " [144. 144. 144. 149. 149.]\n",
      " [152. 152. 152. 152. 161.]\n",
      " [161. 161. 161. 161. 166.]\n",
      " [167. 167. 167. 167. 173.]\n",
      " [178. 178. 178. 178. 185.]\n",
      " [187. 187. 187. 187. 195.]]\n"
     ]
    }
   ],
   "source": [
    "# Binning\n",
    "import numpy as np\n",
    "\n",
    "data = np.random.randint(200, size=100)\n",
    "data = np.sort(data)\n",
    "\n",
    "bin1 = np.zeros((20, 5))\n",
    "bin2 = np.zeros((20, 5))\n",
    "\n",
    "for i in range(0, 100, 5):\n",
    "    mean = np.sum( data[i : i + 5] ) / 5\n",
    "    for j in range(5):\n",
    "        bin1[int( i / 5 ), j] = mean\n",
    "print('Binning using mean\\n\\n', bin1)\n",
    "\n",
    "for i in range(0, 100, 5):\n",
    "    for j in range(5):\n",
    "        if data[i+j] - data[j] < data[i+4] - data[j]:\n",
    "            bin2[int(i/5), j] = data[i]\n",
    "        else:\n",
    "            bin2[int(i/5), j] = data[i+4]\n",
    "print('\\nBinning using boundary\\n\\n', bin2)\n",
    "    "
   ]
  },
  {
   "cell_type": "markdown",
   "metadata": {},
   "source": [
    "### Regression\n",
    "\n",
    "LOESS\n",
    "\n",
    "* What is LOESS? - locally weighted running line smoother\n",
    "\n",
    "![Image](https://miro.medium.com/max/1188/1*g91pI0qM-q4TjQrkgVWvhA.png)\n",
    "\n",
    "*First of all, think of the red line as an ordered sequence of equally spaced x values, in this case between 0 and 2π. For each of these values, select an appropriate neighborhood of sampled points, and use them as the training set for a linear regression problem. With the resulting model, estimate the new value for your point.* [link](https://towardsdatascience.com/loess-373d43b03564)\n",
    "\n",
    "* Package to use [statsmodels](https://www.statsmodels.org/dev/generated/statsmodels.nonparametric.smoothers_lowess.lowess.html)\n",
    "\n",
    "For LOESS, the input is the original x values. LOESS estimates the corresponding y values by using [local regression](https://en.wikipedia.org/wiki/Local_regression)"
   ]
  },
  {
   "cell_type": "markdown",
   "metadata": {},
   "source": [
    "### Clustering"
   ]
  },
  {
   "cell_type": "markdown",
   "metadata": {},
   "source": [
    "Will cover more in clustring section"
   ]
  },
  {
   "cell_type": "markdown",
   "metadata": {},
   "source": [
    "### Reference\n",
    "\n",
    "[1](https://datascience.stackexchange.com/questions/42014/how-to-handle-noisy-data)\n",
    "[2](https://www.geeksforgeeks.org/python-binning-method-for-data-smoothing/)\n",
    "[More reading on smoothing](https://rafalab.github.io/dsbook/smoothing.html)"
   ]
  },
  {
   "cell_type": "code",
   "execution_count": null,
   "metadata": {},
   "outputs": [],
   "source": []
  }
 ],
 "metadata": {
  "kernelspec": {
   "display_name": "Python 3",
   "language": "python",
   "name": "python3"
  },
  "language_info": {
   "codemirror_mode": {
    "name": "ipython",
    "version": 3
   },
   "file_extension": ".py",
   "mimetype": "text/x-python",
   "name": "python",
   "nbconvert_exporter": "python",
   "pygments_lexer": "ipython3",
   "version": "3.7.0"
  }
 },
 "nbformat": 4,
 "nbformat_minor": 2
}
